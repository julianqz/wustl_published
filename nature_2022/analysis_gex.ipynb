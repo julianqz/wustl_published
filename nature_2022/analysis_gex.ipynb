{
 "cells": [
  {
   "cell_type": "markdown",
   "id": "ae8cebfd-b319-4b49-9f7c-cd5e2240ebbe",
   "metadata": {},
   "source": [
    "# Kim & Zhou et al., Nature, 2022 (gene expression)"
   ]
  },
  {
   "cell_type": "markdown",
   "id": "12df1901-55e7-4cb9-8049-e4f245001d49",
   "metadata": {},
   "source": [
    "Author: Julian Q. Zhou"
   ]
  },
  {
   "cell_type": "markdown",
   "id": "09de3606-df45-4d09-96a2-2d6316c9786a",
   "metadata": {},
   "source": [
    "Docker container: `julianqz/wu_cimm:ref_0.1.1_lsf` (Python 3.8.8)"
   ]
  },
  {
   "cell_type": "markdown",
   "id": "8e84224a-7e79-4435-84b9-9a0dba36872a",
   "metadata": {},
   "source": [
    "Memory intensive. Recommend allocating at least 120GB memory."
   ]
  },
  {
   "cell_type": "markdown",
   "id": "18501dc5-4e7b-4992-8730-2e5dc5f8cc93",
   "metadata": {},
   "source": [
    "The code below was run on a HPC environment that did not support running Jupyter Lab via a browser.\n",
    "\n",
    "As such, key console outputs were pasted as comments. Visualizations were outputted as pdfs or pngs.\n",
    "\n",
    "A tsv file was exported at the end for overlaying S-binding specificity on the UMAPs in the R script."
   ]
  },
  {
   "cell_type": "markdown",
   "id": "5ce91359-19f7-452f-a0e2-f2f2843897ab",
   "metadata": {},
   "source": [
    "## Load packages & config"
   ]
  },
  {
   "cell_type": "code",
   "execution_count": null,
   "id": "b2483eeb-0044-4ae3-b4f7-28300e70e6cd",
   "metadata": {},
   "outputs": [],
   "source": [
    "from pathlib import Path\n",
    "import os\n",
    "import copy\n",
    "import re\n",
    "import math\n",
    "import numpy as np\n",
    "import pandas as pd\n",
    "import scanpy as sc\n",
    "from anndata import read_h5ad\n",
    "from anndata import AnnData\n",
    "import matplotlib.pyplot as plt\n",
    "import seaborn as sns"
   ]
  },
  {
   "cell_type": "code",
   "execution_count": null,
   "id": "38d1ce6c-646f-468e-811e-4dab8558a8ba",
   "metadata": {},
   "outputs": [],
   "source": [
    "# scanpy settings\n",
    "\n",
    "# verbosity: errors (0), warnings (1), info (2), hints (3)\n",
    "sc.settings.verbosity = 3             \n",
    "sc.logging.print_header()"
   ]
  },
  {
   "cell_type": "code",
   "execution_count": null,
   "id": "a695f913-c272-4514-80f2-b8adb7edf842",
   "metadata": {},
   "outputs": [],
   "source": [
    "# scanpy==1.7.2 anndata==0.7.6 umap==0.5.1 numpy==1.20.2 scipy==1.6.2 pandas==1.2.3 scikit-learn==0.24.1 statsmodels==0.12.2 python-igraph==0.9.4"
   ]
  },
  {
   "cell_type": "code",
   "execution_count": null,
   "id": "d13a6440-c20f-4ceb-8319-5e6cbbcf76f8",
   "metadata": {},
   "outputs": [],
   "source": [
    "sc.settings.set_figure_params(dpi=120, dpi_save=150, vector_friendly=False, format=\"pdf\", \n",
    "                              transparent=False, facecolor=\"w\", color_map=\"viridis_r\")"
   ]
  },
  {
   "cell_type": "code",
   "execution_count": null,
   "id": "6b87b179-51fa-4a77-aee2-7253b2a96d0f",
   "metadata": {},
   "outputs": [],
   "source": [
    "sc.settings.figdir = \".\""
   ]
  },
  {
   "cell_type": "code",
   "execution_count": null,
   "id": "fccd7b70-3575-41b1-8128-6bc618d66077",
   "metadata": {},
   "outputs": [],
   "source": [
    "# resolution for clustering all cells\n",
    "res_1 = 0.23\n",
    "anno_col_1 = f\"anno_leiden_{res_1:.2f}\""
   ]
  },
  {
   "cell_type": "code",
   "execution_count": null,
   "id": "04e3fbe8-d8cf-48b8-ae5b-966bee7c1f83",
   "metadata": {},
   "outputs": [],
   "source": [
    "# resolution for clustering B cells\n",
    "res_2 = 0.18\n",
    "anno_col_2 = f\"anno_leiden_{res_2:.2f}\""
   ]
  },
  {
   "cell_type": "code",
   "execution_count": null,
   "id": "7858617b-7834-435b-bc23-48e4dda5e45c",
   "metadata": {},
   "outputs": [],
   "source": [
    "# number of principal components to use\n",
    "N_PC = 20"
   ]
  },
  {
   "cell_type": "code",
   "execution_count": null,
   "id": "97401805-f86a-4b95-9049-248629bd68ea",
   "metadata": {},
   "outputs": [],
   "source": [
    "# type of embedding\n",
    "eb = \"umap\""
   ]
  },
  {
   "cell_type": "code",
   "execution_count": null,
   "id": "d270f2a9-d01f-4637-83cd-7ec2e091f3c3",
   "metadata": {},
   "outputs": [],
   "source": [
    "# filenames\n",
    "fn_1 = \"WU368_kim_et_al_nature_2022_gex_all_cells.h5ad\"\n",
    "fn_2 = \"WU368_kim_et_al_nature_2022_gex_b_cells.h5ad\"\n",
    "fn_save = f\"gex_b_cells_{eb}_anno.tsv.gz\""
   ]
  },
  {
   "cell_type": "markdown",
   "id": "eda57295-a68b-4c1b-82cc-66521835d9fa",
   "metadata": {},
   "source": [
    "## All cells"
   ]
  },
  {
   "cell_type": "markdown",
   "id": "6634d1ef-ee2e-4033-9872-9c3b94a017aa",
   "metadata": {},
   "source": [
    "### AnnData containing clustering results of all cells"
   ]
  },
  {
   "cell_type": "code",
   "execution_count": null,
   "id": "83af5834-3301-4f6e-9932-fb5c752ab252",
   "metadata": {},
   "outputs": [],
   "source": [
    "adata_1 = read_h5ad(fn_1)"
   ]
  },
  {
   "cell_type": "code",
   "execution_count": null,
   "id": "6c8bc1c1-1a44-4a1f-9fe7-00b7d8705f1b",
   "metadata": {},
   "outputs": [],
   "source": [
    "# reset .X (previously set to `None` in order to reduce file size)\n",
    "adata_1.X = adata_1.layers[\"log_norm\"]"
   ]
  },
  {
   "cell_type": "code",
   "execution_count": null,
   "id": "29c27544-1375-49e7-bda6-6eca8ed6f356",
   "metadata": {},
   "outputs": [],
   "source": [
    "# check that column containing annotation labels is present\n",
    "assert anno_col_1 in adata_1.obs.keys()"
   ]
  },
  {
   "cell_type": "code",
   "execution_count": null,
   "id": "bbdab62f-edb6-4cc2-8f97-ce705d79bfb7",
   "metadata": {},
   "outputs": [],
   "source": [
    "# exclude cluster annotated as \"B & T\"\n",
    "clusters_excl_1 = [\"B & T\"]\n",
    "bool_incl_1 = ~adata_1.obs[anno_col_1].isin(clusters_excl_1)\n",
    "\n",
    "# subset\n",
    "adata_1 = adata_1[bool_incl_1, :]\n",
    "\n",
    "# remove excluded categories\n",
    "adata_1.obs[anno_col_1] = adata_1.obs[anno_col_1].cat.remove_unused_categories()\n",
    "\n",
    "# re-run dendrogram\n",
    "sc.tl.dendrogram(adata_1, groupby=anno_col_1, n_pcs=N_PC, use_rep=\"X_pca\")"
   ]
  },
  {
   "cell_type": "code",
   "execution_count": null,
   "id": "8ca0d5cf-8ea3-439e-b6c0-26b0a6b59b78",
   "metadata": {},
   "outputs": [],
   "source": [
    "adata_1.shape"
   ]
  },
  {
   "cell_type": "code",
   "execution_count": null,
   "id": "cc86fe83-56be-49b9-baf2-aea5f0192019",
   "metadata": {},
   "outputs": [],
   "source": [
    "# (383608, 15842)"
   ]
  },
  {
   "cell_type": "markdown",
   "id": "81aca419-b227-4982-b433-204d533482da",
   "metadata": {},
   "source": [
    "### Cell counts by annotation"
   ]
  },
  {
   "cell_type": "code",
   "execution_count": null,
   "id": "12fd09e6-1d98-44de-999b-9f63d028becd",
   "metadata": {},
   "outputs": [],
   "source": [
    "adata_1.obs[anno_col_1].value_counts()"
   ]
  },
  {
   "cell_type": "code",
   "execution_count": null,
   "id": "c92bd396-d331-4c8e-aa48-142b47385299",
   "metadata": {},
   "outputs": [],
   "source": [
    "# B           193442\n",
    "# CD4+ T      136978\n",
    "# CD8+ T       36613\n",
    "# NK            6986\n",
    "# Monocyte      6520\n",
    "# pDC           2425\n",
    "# FDC            644\n",
    "# Name: anno_leiden_0.23, dtype: int64"
   ]
  },
  {
   "cell_type": "code",
   "execution_count": null,
   "id": "7246ab61-8489-4d49-8b68-23a525e9abfd",
   "metadata": {},
   "outputs": [],
   "source": [
    "# stratified by tissue\n",
    "pd.crosstab(index=adata_1.obs[\"tissue\"], columns=adata_1.obs[anno_col_1], margins=True)"
   ]
  },
  {
   "cell_type": "code",
   "execution_count": null,
   "id": "419d05a1-cc5a-48f8-9046-d89cfae107cd",
   "metadata": {},
   "outputs": [],
   "source": [
    "# anno_leiden_0.23       B  CD4+ T  CD8+ T  FDC  Monocyte    NK   pDC     All\n",
    "# tissue                                                                     \n",
    "# LN                166022  136929   36532  644      6379  6268  2420  355194\n",
    "# blood              27420      49      81    0       141   718     5   28414\n",
    "# All               193442  136978   36613  644      6520  6986  2425  383608"
   ]
  },
  {
   "cell_type": "markdown",
   "id": "fd20128d-b8cf-4db3-9909-90a30dc2b954",
   "metadata": {},
   "source": [
    "### Dot plot (Extended Data Fig 2c)"
   ]
  },
  {
   "cell_type": "code",
   "execution_count": null,
   "id": "d05dbd59-3e38-43eb-8acf-1c8f559a1117",
   "metadata": {},
   "outputs": [],
   "source": [
    "genes_dict_1 = {\n",
    "    \"B\": [\"MS4A1\", \"CD19\", \"CD79A\"],\n",
    "    \"T\": [\"CD3D\", \"CD3E\", \"CD3G\", \"IL7R\"],\n",
    "    \"CD4+ T\": [\"CD4\"],\n",
    "    \"CD8+ T\": [\"CD8A\"],\n",
    "    \"NK\": [\"GZMB\", \"GNLY\", \"NKG7\", \"NCAM1\"],\n",
    "    \"Monocyte\": [\"CD14\", \"LYZ\", \"CST3\", \"MS4A7\"],\n",
    "    \"pDC\": [\"IL3RA\", \"CLEC4C\"],\n",
    "    \"FDC\": [\"FDCSP\", \"CXCL14\", \"FCAMR\"]\n",
    "}\n",
    "\n",
    "genes_lst_1 = [x for v in genes_dict_1.values() for x in v]"
   ]
  },
  {
   "cell_type": "code",
   "execution_count": null,
   "id": "298ce467-6fd5-45f4-85ef-30ae4aa6dbc3",
   "metadata": {},
   "outputs": [],
   "source": [
    "# check that all genes for visualization are present in count matrix\n",
    "assert all( [x in adata_1.var[\"gene_name\"] for x in genes_lst_1] )"
   ]
  },
  {
   "cell_type": "code",
   "execution_count": null,
   "id": "96171d55-e8a2-4276-b2e5-b4d0767805e2",
   "metadata": {},
   "outputs": [],
   "source": [
    "anno_order_1 = [\"B\", \"CD4+ T\", \"CD8+ T\", \"NK\", \"Monocyte\", \"pDC\", \"FDC\"]"
   ]
  },
  {
   "cell_type": "code",
   "execution_count": null,
   "id": "74118d63-b03d-45b0-9a5c-b005c2f4411f",
   "metadata": {},
   "outputs": [],
   "source": [
    "cur_fig = sc.pl.dotplot(adata_1, layer=\"log_norm\", var_names=genes_dict_1, groupby=anno_col_1,\n",
    "                        dendrogram=False, \n",
    "                        categories_order=anno_order_1, swap_axes=False,\n",
    "                        cmap=\"Blues\", return_fig=True, save=False)\n",
    "cur_fig.savefig(\"gex_all_cells_dot.pdf\", bbox_inches=\"tight\")\n",
    "plt.close()"
   ]
  },
  {
   "cell_type": "markdown",
   "id": "1406ba5c-d8b7-4b70-9b0c-8eeeb5be61c6",
   "metadata": {},
   "source": [
    "### UMAPs (Fig 2a; Extended Data Fig 2b)"
   ]
  },
  {
   "cell_type": "code",
   "execution_count": null,
   "id": "1be1bc01-cfbf-43ad-8a58-b4a870b31e52",
   "metadata": {},
   "outputs": [],
   "source": [
    "# color palette\n",
    "anno_palette_1 = {\n",
    "    \"B\": \"violet\", \n",
    "    \"CD4+ T\": \"dodgerblue\",\n",
    "    \"CD8+ T\": \"orange\",\n",
    "    \"NK\": \"purple\", \n",
    "    \"Monocyte\": \"seagreen\", \n",
    "    \"pDC\": \"darkgray\",\n",
    "    \"FDC\": \"red\"\n",
    "}"
   ]
  },
  {
   "cell_type": "code",
   "execution_count": null,
   "id": "003f206a-6efa-4f22-adbe-1268aebcc5d2",
   "metadata": {},
   "outputs": [],
   "source": [
    "# combined (Extended Data Fig 2b, left)\n",
    "cur_fig = sc.pl.embedding(adata_1, basis=f\"X_{eb}\", color=anno_col_1, \n",
    "                          size=3, palette=anno_palette_1, \n",
    "                          legend_loc=\"right\", legend_fontsize=0, legend_fontoutline=0,\n",
    "                          frameon=True, ncols=1, title=\"\",\n",
    "                          return_fig=True, save=False)\n",
    "\n",
    "cur_fig.savefig(f\"gex_all_cells_{eb}_combined.png\", dpi=500, bbox_inches=\"tight\")\n",
    "\n",
    "plt.close(cur_fig)"
   ]
  },
  {
   "cell_type": "code",
   "execution_count": null,
   "id": "2d99bf61-0f89-40c9-a3cf-f57abac333af",
   "metadata": {},
   "outputs": [],
   "source": [
    "# DataFrame containing UMAP coordinates and select metadata columns\n",
    "eb_df_anno_1 = pd.concat(\n",
    "    [ pd.DataFrame(adata_1.obsm[f\"X_{eb}\"], columns=[f\"{eb}_x\", f\"{eb}_y\"], index=adata_1.obs.index),\n",
    "      adata_1.obs.loc[:, [anno_col_1, \"tissue\", \"donor\"]] ], \n",
    "    axis=1)"
   ]
  },
  {
   "cell_type": "code",
   "execution_count": null,
   "id": "9bc675fb-b1c0-41b2-8805-0196452a9bc1",
   "metadata": {},
   "outputs": [],
   "source": [
    "# remove grid lines and ticks\n",
    "sns.set_style(\"white\")"
   ]
  },
  {
   "cell_type": "code",
   "execution_count": null,
   "id": "143427b4-3c29-4c14-abf7-fc2a4dada59e",
   "metadata": {},
   "outputs": [],
   "source": [
    "# stratified by tissue (Fig 2a, left)\n",
    "\n",
    "# a Facet.Grid\n",
    "cur_fig = sns.relplot(x=f\"{eb}_x\", y=f\"{eb}_y\", data=eb_df_anno_1, \n",
    "                      hue=anno_col_1, palette=anno_palette_1,\n",
    "                      hue_order=anno_order_1, # legend order\n",
    "                      col=\"tissue\", \n",
    "                      s=3, alpha=0.85, \n",
    "                      legend=True,\n",
    "                      height=5, aspect=0.9)\n",
    "\n",
    "# remove x-axis label\n",
    "cur_fig.set(xlabel=None)\n",
    "# remove y-axis label\n",
    "cur_fig.set(ylabel=None)\n",
    "# remove tick labels\n",
    "cur_fig.set(xticklabels=[])\n",
    "cur_fig.set(yticklabels=[])\n",
    "\n",
    "# set legend title\n",
    "cur_fig._legend.set_title(\"\")\n",
    "\n",
    "cur_fig.savefig(f\"gex_all_cells_{eb}_by_tissue.png\", dpi=500, bbox_inches=\"tight\")\n",
    "\n",
    "plt.close()"
   ]
  },
  {
   "cell_type": "code",
   "execution_count": null,
   "id": "e72fcaba-53f6-49ff-9ee2-a5b58484a23b",
   "metadata": {},
   "outputs": [],
   "source": [
    "# stratified by donor (Extended Data Fig 2b, right)\n",
    "\n",
    "max_per_row = 4\n",
    "\n",
    "# a Facet.Grid\n",
    "cur_fig = sns.relplot(x=f\"{eb}_x\", y=f\"{eb}_y\", data=eb_df_anno_1, \n",
    "                      hue=anno_col_1, palette=anno_palette_1,\n",
    "                      hue_order=anno_order_1, # legend order\n",
    "                      col=\"donor\", col_wrap=max_per_row,\n",
    "                      s=3, alpha=0.85, \n",
    "                      height=5, aspect=0.9)\n",
    "\n",
    "# remove x-axis label\n",
    "cur_fig.set(xlabel=None)\n",
    "# remove y-axis label\n",
    "cur_fig.set(ylabel=None)\n",
    "# remove tick labels\n",
    "cur_fig.set(xticklabels=[])\n",
    "cur_fig.set(yticklabels=[])\n",
    "\n",
    "# set legend title\n",
    "cur_fig._legend.set_title(\"\")\n",
    "\n",
    "\n",
    "cur_fig.savefig(f\"gex_all_cells_{eb}_by_donor.png\", dpi=120, bbox_inches=\"tight\")\n",
    "\n",
    "plt.close()"
   ]
  },
  {
   "cell_type": "code",
   "execution_count": null,
   "id": "23c8326c-7111-4555-b5e0-9e44bfb682cc",
   "metadata": {},
   "outputs": [],
   "source": [
    "del adata_1, eb_df_anno_1"
   ]
  },
  {
   "cell_type": "markdown",
   "id": "a7a77095-2211-4c8b-9fed-2cf0c9da1c59",
   "metadata": {},
   "source": [
    "## B cells"
   ]
  },
  {
   "cell_type": "markdown",
   "id": "6d8b2d81-6d42-4293-ad69-953cf6505ed9",
   "metadata": {},
   "source": [
    "Tip: When running the `B cells` section after running the `All cells` section, if memory limit is used, skip running `All cells` and go straight to `B cells`. These two sections should be independent of each other."
   ]
  },
  {
   "cell_type": "markdown",
   "id": "94aec051-3020-4bc0-84b8-c795bed2433a",
   "metadata": {},
   "source": [
    "### AnnData containing clustering results of B cells"
   ]
  },
  {
   "cell_type": "code",
   "execution_count": null,
   "id": "010b3e4d-e913-494c-af9f-646fdd6e34b4",
   "metadata": {},
   "outputs": [],
   "source": [
    "adata_2 = read_h5ad(fn_2)"
   ]
  },
  {
   "cell_type": "code",
   "execution_count": null,
   "id": "4fc8f8a4-7a84-462c-ae49-4c06eac15eef",
   "metadata": {},
   "outputs": [],
   "source": [
    "# reset .X (previously set to `None` in order to reduce file size)\n",
    "adata_2.X = adata_2.layers[\"log_norm\"]"
   ]
  },
  {
   "cell_type": "code",
   "execution_count": null,
   "id": "8b89dd16-43c4-4c7a-aac6-20d05d457126",
   "metadata": {},
   "outputs": [],
   "source": [
    "# check that column containing annotation labels is present\n",
    "assert anno_col_2 in adata_2.obs.keys()"
   ]
  },
  {
   "cell_type": "code",
   "execution_count": null,
   "id": "f816bc22-5611-4b24-9d22-4aea559a4704",
   "metadata": {},
   "outputs": [],
   "source": [
    "# exclude cluster annotated as \"B & T\"\n",
    "clusters_excl_2 = [\"B & T\"]\n",
    "bool_incl_2 = ~adata_2.obs[anno_col_2].isin(clusters_excl_2)\n",
    "\n",
    "# subset\n",
    "adata_2 = adata_2[bool_incl_2, :]\n",
    "\n",
    "# remove excluded categories\n",
    "adata_2.obs[anno_col_2] = adata_2.obs[anno_col_2].cat.remove_unused_categories()\n",
    "\n",
    "# re-run dendrogram\n",
    "sc.tl.dendrogram(adata_2, groupby=anno_col_2, n_pcs=N_PC, use_rep=\"X_pca\")"
   ]
  },
  {
   "cell_type": "code",
   "execution_count": null,
   "id": "69b58597-9563-46a0-a656-4a714b4db006",
   "metadata": {},
   "outputs": [],
   "source": [
    "adata_2.shape"
   ]
  },
  {
   "cell_type": "code",
   "execution_count": null,
   "id": "c356e9fc-36d8-41bd-8369-d88bf5be49de",
   "metadata": {},
   "outputs": [],
   "source": [
    "# (182645, 15842)"
   ]
  },
  {
   "cell_type": "markdown",
   "id": "463cc385-1633-4a33-bb35-56ede1ea469e",
   "metadata": {},
   "source": [
    "### Cell counts by annotation"
   ]
  },
  {
   "cell_type": "code",
   "execution_count": null,
   "id": "2cc7e8db-2d23-4eb1-b5d8-e22dc486abf8",
   "metadata": {},
   "outputs": [],
   "source": [
    "adata_2.obs[anno_col_2].value_counts()"
   ]
  },
  {
   "cell_type": "code",
   "execution_count": null,
   "id": "605f88df-fe1e-4006-9f79-65443ed162ef",
   "metadata": {},
   "outputs": [],
   "source": [
    "# GC         62156\n",
    "# RMB        42255\n",
    "# Naive      38686\n",
    "# PB         27231\n",
    "# LNPC       12299\n",
    "# PB-like       18\n",
    "# Name: anno_leiden_0.18, dtype: int64"
   ]
  },
  {
   "cell_type": "code",
   "execution_count": null,
   "id": "9704bc9f-dbc1-40d8-9842-cc1bfc374496",
   "metadata": {},
   "outputs": [],
   "source": [
    "# stratified by tissue\n",
    "pd.crosstab(index=adata_2.obs[\"tissue\"], columns=adata_2.obs[anno_col_2], margins=True)"
   ]
  },
  {
   "cell_type": "code",
   "execution_count": null,
   "id": "a98cb70f-94e1-48a7-a339-67706fef56ab",
   "metadata": {},
   "outputs": [],
   "source": [
    "# anno_leiden_0.18     GC   LNPC  Naive     PB    RMB  PB-like     All\n",
    "# tissue                                                              \n",
    "# LN                62156  12299  38665      0  42105        0  155225\n",
    "# blood                 0      0     21  27231    150       18   27420\n",
    "# All               62156  12299  38686  27231  42255       18  182645"
   ]
  },
  {
   "cell_type": "markdown",
   "id": "cc2c709f-d22f-4eb2-8388-bf814c6904f1",
   "metadata": {},
   "source": [
    "### Dot plot (Extended Data Fig 2e)"
   ]
  },
  {
   "cell_type": "code",
   "execution_count": null,
   "id": "70ecc661-f36f-4f1c-aea6-0b0eda7bfdc9",
   "metadata": {},
   "outputs": [],
   "source": [
    "genes_dict_2 = {\n",
    "    \"GC\": [\"BCL6\", \"RGS13\", \"MEF2B\", \"STMN1\", \"ELL3\", \"SERPINA9\"],\n",
    "    \"PB/LNPC\": [\"XBP1\", \"IRF4\", \"SEC11C\", \"FKBP11\", \"JCHAIN\", \"PRDM1\"],\n",
    "    \"Naive\": [\"TCL1A\", \"IL4R\", \"CCR7\", \"IGHM\", \"IGHD\"],\n",
    "    \"RMB\": [\"TNFRSF13B\", \"CD27\", \"CD24\"]\n",
    "}\n",
    "\n",
    "genes_lst_2 = [x for v in genes_dict_2.values() for x in v]"
   ]
  },
  {
   "cell_type": "code",
   "execution_count": null,
   "id": "5f047721-78f2-4a6f-bb16-7bd82ababf56",
   "metadata": {},
   "outputs": [],
   "source": [
    "# check that all genes for visualization are present in count matrix\n",
    "assert all( [x in adata_2.var[\"gene_name\"] for x in genes_lst_2] )"
   ]
  },
  {
   "cell_type": "code",
   "execution_count": null,
   "id": "207d0dc6-3c6a-4460-bf43-cb16410a0e1f",
   "metadata": {},
   "outputs": [],
   "source": [
    "anno_order_2 = [\"Naive\", \"PB\", \"PB-like\", \"GC\", \"LNPC\", \"RMB\"]"
   ]
  },
  {
   "cell_type": "code",
   "execution_count": null,
   "id": "98da4f71-9a60-48bb-a325-14e138bf1f42",
   "metadata": {},
   "outputs": [],
   "source": [
    "cur_fig = sc.pl.dotplot(adata_2, layer=\"log_norm\", var_names=genes_dict_2, groupby=anno_col_2,\n",
    "                        dendrogram=False, \n",
    "                        categories_order=anno_order_2, swap_axes=False,\n",
    "                        cmap=\"Blues\", return_fig=True, save=False)\n",
    "cur_fig.savefig(\"gex_b_cells_dot.pdf\", bbox_inches=\"tight\")\n",
    "plt.close()"
   ]
  },
  {
   "cell_type": "markdown",
   "id": "2abf276e-7e50-46fe-ada0-5426f367c271",
   "metadata": {},
   "source": [
    "### UMAPs (Fig 2a; Extended Data Fig 2d)"
   ]
  },
  {
   "cell_type": "code",
   "execution_count": null,
   "id": "a5af4c7c-207f-4045-8992-1696b017e08c",
   "metadata": {},
   "outputs": [],
   "source": [
    "# color palette\n",
    "anno_palette_2 = {\n",
    "    \"GC\": \"dodgerblue\", \n",
    "    \"LNPC\": \"forestgreen\",\n",
    "    \"PB\": \"red\",\n",
    "    \"Naive\": \"orange\",\n",
    "    \"RMB\": \"violet\",\n",
    "    \"PB-like\": \"brown\"\n",
    "}"
   ]
  },
  {
   "cell_type": "code",
   "execution_count": null,
   "id": "0284f284-41f8-4e39-9598-d3b94af61871",
   "metadata": {},
   "outputs": [],
   "source": [
    "# combined (Extended Data Fig 2d, left)\n",
    "cur_fig = sc.pl.embedding(adata_2, basis=f\"X_{eb}\", color=anno_col_2, \n",
    "                          size=3, palette=anno_palette_2, \n",
    "                          legend_loc=\"right\", legend_fontsize=0, legend_fontoutline=0,\n",
    "                          frameon=True, ncols=1, title=\"\",\n",
    "                          return_fig=True, save=False)\n",
    "\n",
    "cur_fig.savefig(f\"gex_b_cells_{eb}_combined.png\", dpi=500, bbox_inches=\"tight\")\n",
    "\n",
    "plt.close(cur_fig)"
   ]
  },
  {
   "cell_type": "code",
   "execution_count": null,
   "id": "b4c6d9f0-9c11-4b6b-8fdb-28f20cc2a56e",
   "metadata": {},
   "outputs": [],
   "source": [
    "# DataFrame containing UMAP coordinates and select metadata columns\n",
    "eb_df_anno_2 = pd.concat(\n",
    "    [ pd.DataFrame(adata_2.obsm[f\"X_{eb}\"], columns=[f\"{eb}_x\", f\"{eb}_y\"], index=adata_2.obs.index),\n",
    "      adata_2.obs.loc[:, [anno_col_2, \"tissue\", \"donor\", \"cell_id\"]] ], \n",
    "    axis=1)"
   ]
  },
  {
   "cell_type": "code",
   "execution_count": null,
   "id": "b9ac87aa-3b89-4d8a-86fd-855bfca4fdff",
   "metadata": {},
   "outputs": [],
   "source": [
    "# remove grid lines and ticks\n",
    "sns.set_style(\"white\")"
   ]
  },
  {
   "cell_type": "code",
   "execution_count": null,
   "id": "dc519d36-bc7e-4e6c-98e7-c7e33168b804",
   "metadata": {},
   "outputs": [],
   "source": [
    "# stratified by tissue (Fig 2a, right)\n",
    "\n",
    "# a Facet.Grid\n",
    "cur_fig = sns.relplot(x=f\"{eb}_x\", y=f\"{eb}_y\", data=eb_df_anno_2, \n",
    "                      hue=anno_col_2, palette=anno_palette_2,\n",
    "                      hue_order=anno_order_2, # legend order\n",
    "                      col=\"tissue\", \n",
    "                      s=3, alpha=0.85, \n",
    "                      legend=True,\n",
    "                      height=5, aspect=0.9)\n",
    "\n",
    "# remove x-axis label\n",
    "cur_fig.set(xlabel=None)\n",
    "# remove y-axis label\n",
    "cur_fig.set(ylabel=None)\n",
    "# remove tick labels\n",
    "cur_fig.set(xticklabels=[])\n",
    "cur_fig.set(yticklabels=[])\n",
    "\n",
    "# set legend title\n",
    "cur_fig._legend.set_title(\"\")\n",
    "\n",
    "cur_fig.savefig(f\"gex_b_cells_{eb}_by_tissue.png\", dpi=500, bbox_inches=\"tight\")\n",
    "\n",
    "plt.close()"
   ]
  },
  {
   "cell_type": "code",
   "execution_count": null,
   "id": "5e0b0aed-8f06-4344-9861-df8ae6818429",
   "metadata": {},
   "outputs": [],
   "source": [
    "# stratified by donor (Extended Data Fig 2d, right)\n",
    "\n",
    "max_per_row = 4\n",
    "\n",
    "# a Facet.Grid\n",
    "cur_fig = sns.relplot(x=f\"{eb}_x\", y=f\"{eb}_y\", data=eb_df_anno_2, \n",
    "                      hue=anno_col_2, palette=anno_palette_2,\n",
    "                      hue_order=anno_order_2, # legend order\n",
    "                      col=\"donor\", col_wrap=max_per_row,\n",
    "                      s=3, alpha=0.85, \n",
    "                      height=5, aspect=0.9)\n",
    "\n",
    "# remove x-axis label\n",
    "cur_fig.set(xlabel=None)\n",
    "# remove y-axis label\n",
    "cur_fig.set(ylabel=None)\n",
    "# remove tick labels\n",
    "cur_fig.set(xticklabels=[])\n",
    "cur_fig.set(yticklabels=[])\n",
    "\n",
    "# set legend title\n",
    "cur_fig._legend.set_title(\"\")\n",
    "\n",
    "\n",
    "cur_fig.savefig(f\"gex_b_cells_{eb}_by_donor.png\", dpi=120, bbox_inches=\"tight\")\n",
    "\n",
    "plt.close()"
   ]
  },
  {
   "cell_type": "markdown",
   "id": "1e90b908-c22f-4b4e-8044-35aa4adaafe3",
   "metadata": {},
   "source": [
    "### Export DataFrame"
   ]
  },
  {
   "cell_type": "code",
   "execution_count": null,
   "id": "000f30e9-4a1c-40b4-acfb-a74b8a83adf0",
   "metadata": {},
   "outputs": [],
   "source": [
    "# used in R script for Extended Data Fig 2h\n",
    "eb_df_anno_2.to_csv(fn_save, sep=\"\\t\", header=True, index=True, compression=\"gzip\")"
   ]
  }
 ],
 "metadata": {
  "kernelspec": {
   "display_name": "Python 3",
   "language": "python",
   "name": "python3"
  },
  "language_info": {
   "codemirror_mode": {
    "name": "ipython",
    "version": 3
   },
   "file_extension": ".py",
   "mimetype": "text/x-python",
   "name": "python",
   "nbconvert_exporter": "python",
   "pygments_lexer": "ipython3",
   "version": "3.8.8"
  }
 },
 "nbformat": 4,
 "nbformat_minor": 5
}
